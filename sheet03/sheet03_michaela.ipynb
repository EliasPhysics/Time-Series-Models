{
 "cells": [
  {
   "cell_type": "markdown",
   "id": "d6386b00",
   "metadata": {},
   "source": [
    "# Sheet 2\n",
    "by Michaela and Elias"
   ]
  },
  {
   "cell_type": "markdown",
   "id": "2d6b8817",
   "metadata": {},
   "source": [
    "## Task 1"
   ]
  },
  {
   "cell_type": "code",
   "execution_count": null,
   "id": "798e1ec0",
   "metadata": {
    "vscode": {
     "languageId": "plaintext"
    }
   },
   "outputs": [],
   "source": []
  }
 ],
 "metadata": {
  "language_info": {
   "name": "python"
  }
 },
 "nbformat": 4,
 "nbformat_minor": 5
}
