{
 "cells": [
  {
   "cell_type": "markdown",
   "metadata": {},
   "source": [
    "# Sheet 4"
   ]
  },
  {
   "cell_type": "code",
   "execution_count": 2,
   "metadata": {},
   "outputs": [],
   "source": [
    "# Import packages\n",
    "import numpy as np\n",
    "import pandas as pd\n",
    "import matplotlib.pyplot as plt\n",
    "from scipy.signal import detrend\n",
    "import scipy.io\n",
    "import math \n",
    "# Import data\n",
    "A = np.genfromtxt(\"data/A.csv\",delimiter=\",\")\n",
    "B = np.genfromtxt(\"data/B.csv\",delimiter=\",\")\n",
    "C = np.genfromtxt(\"data/C.csv\",delimiter=\",\")\n",
    "Gamma = np.genfromtxt(\"data/Gamma.csv\",delimiter=\",\")\n",
    "L0 = np.genfromtxt(\"data/L0.csv\",delimiter=\",\")\n",
    "mu0 = np.genfromtxt(\"data/mu0.csv\",delimiter=\",\")\n",
    "Sigma = np.genfromtxt(\"data/Sigma.csv\",delimiter=\",\")\n",
    "u = np.genfromtxt(\"data/u.csv\",delimiter=\",\")\n",
    "x = np.genfromtxt(\"data/x.csv\",delimiter=\",\")\n",
    "z = np.genfromtxt(\"data/z.csv\",delimiter=\",\")\n",
    "z0 = np.genfromtxt(\"data/z0.csv\",delimiter=\",\")\n"
   ]
  },
  {
   "cell_type": "markdown",
   "metadata": {},
   "source": [
    "## Task 1. Kalman filter-smoother"
   ]
  },
  {
   "cell_type": "markdown",
   "metadata": {},
   "source": [
    "### Retrieve an estimate for the latent states $z$ purely from the observations $x$ by implementing the Kalman filter recursion."
   ]
  },
  {
   "cell_type": "code",
   "execution_count": 8,
   "metadata": {},
   "outputs": [
    {
     "ename": "NameError",
     "evalue": "name 'K' is not defined",
     "output_type": "error",
     "traceback": [
      "\u001b[0;31m---------------------------------------------------------------------------\u001b[0m",
      "\u001b[0;31mNameError\u001b[0m                                 Traceback (most recent call last)",
      "Cell \u001b[0;32mIn[8], line 3\u001b[0m\n\u001b[1;32m      1\u001b[0m T \u001b[38;5;241m=\u001b[39m x\u001b[38;5;241m.\u001b[39msize\n\u001b[1;32m      2\u001b[0m mu_t \u001b[38;5;241m=\u001b[39m [\u001b[38;5;241m0\u001b[39m]\u001b[38;5;241m*\u001b[39mT\n\u001b[0;32m----> 3\u001b[0m mu_t[\u001b[38;5;241m0\u001b[39m] \u001b[38;5;241m=\u001b[39m A \u001b[38;5;241m*\u001b[39m mu0 \u001b[38;5;241m+\u001b[39m C \u001b[38;5;241m*\u001b[39m u[\u001b[38;5;241m0\u001b[39m] \u001b[38;5;241m+\u001b[39m \u001b[43mK\u001b[49m[\u001b[38;5;241m0\u001b[39m] \u001b[38;5;241m*\u001b[39m (x[\u001b[38;5;241m0\u001b[39m]\u001b[38;5;241m-\u001b[39m B \u001b[38;5;241m*\u001b[39m (A \u001b[38;5;241m*\u001b[39m mu0 \u001b[38;5;241m+\u001b[39m C \u001b[38;5;241m*\u001b[39m u[\u001b[38;5;241m0\u001b[39m]))\n\u001b[1;32m      4\u001b[0m \u001b[38;5;66;03m#for t in range(1,T):\u001b[39;00m\n\u001b[1;32m      5\u001b[0m \u001b[38;5;66;03m#    mu_t[t] = A * mu_t[t-1] + C * u[t] + K[t] * (x[t]- B * (A * mu_t[t-1]+ C * u[t]))\u001b[39;00m\n",
      "\u001b[0;31mNameError\u001b[0m: name 'K' is not defined"
     ]
    }
   ],
   "source": [
    "T = x.size\n",
    "mu_t = [0]*T\n",
    "mu_t[0] = A * mu0 + C * u[0] + K[0] * (x[0]- B * (A * mu0 + C * u[0]))\n",
    "#for t in range(1,T):\n",
    "#    mu_t[t] = A * mu_t[t-1] + C * u[t] + K[t] * (x[t]- B * (A * mu_t[t-1]+ C * u[t]))"
   ]
  }
 ],
 "metadata": {
  "kernelspec": {
   "display_name": "Python 3",
   "language": "python",
   "name": "python3"
  },
  "language_info": {
   "codemirror_mode": {
    "name": "ipython",
    "version": 3
   },
   "file_extension": ".py",
   "mimetype": "text/x-python",
   "name": "python",
   "nbconvert_exporter": "python",
   "pygments_lexer": "ipython3",
   "version": "3.11.1"
  }
 },
 "nbformat": 4,
 "nbformat_minor": 2
}
