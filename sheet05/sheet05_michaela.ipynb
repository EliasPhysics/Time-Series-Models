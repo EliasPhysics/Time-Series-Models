{
 "cells": [
  {
   "cell_type": "markdown",
   "metadata": {},
   "source": [
    "# Sheet 4"
   ]
  },
  {
   "cell_type": "code",
   "outputs": [],
   "source": [
    "# Import packages\n",
    "import numpy as np\n",
    "import matplotlib.pyplot as plt\n",
    "from numpy.linalg import inv\n",
    "from scipy.optimize import fsolve"
   ],
   "metadata": {
    "collapsed": false
   }
  },
  {
   "cell_type": "markdown",
   "source": [
    "## Task 1. Fixed Points, Stability, and Bifurcations"
   ],
   "metadata": {
    "collapsed": false
   }
  },
  {
   "cell_type": "markdown",
   "source": [
    "### Find the fixed points of the system. Visualize these in a graph. Are they stable?"
   ],
   "metadata": {
    "collapsed": false
   }
  },
  {
   "cell_type": "code",
   "outputs": [],
   "source": [
    "w = 7\n",
    "def model(x, theta = -2.5):\n",
    "    return(w * 1 / (1 + np.exp(- x)) + theta)"
   ],
   "metadata": {
    "collapsed": false
   }
  },
  {
   "cell_type": "markdown",
   "source": [
    "We find the fixpoint(s) using fsolve from scipy"
   ],
   "metadata": {
    "collapsed": false
   }
  },
  {
   "cell_type": "code",
   "outputs": [],
   "source": [
    "f = lambda x: x - model(x)\n",
    "fixpoint = fsolve(f, x0 = 3)\n",
    "print(fixpoint)"
   ],
   "metadata": {
    "collapsed": false
   }
  },
  {
   "cell_type": "markdown",
   "source": [
    "We plot the univariate nonlinear map along with the identity line in the below plot"
   ],
   "metadata": {
    "collapsed": false
   }
  },
  {
   "cell_type": "code",
   "outputs": [],
   "source": [
    "x_vals = np.linspace(-6, 6, 400)\n",
    "y_vals = model(x_vals)\n",
    "\n",
    "# Plotting\n",
    "plt.figure(figsize=(8, 5))\n",
    "plt.axhline(0, color='gray', linestyle='--', linewidth=1)  # horizontal line at y=0\n",
    "plt.plot(x_vals, y_vals, label=f\"f(x) = {w} / (1 + exp(-x)) - 2.5\")\n",
    "plt.plot(range(-6,7), range(-6,7), label=f\"Identity line\")\n",
    "plt.plot(fixpoint, model(fixpoint), 'o', color='blue', label=\"Fixpoint\")\n",
    "plt.xlabel(\"x\")\n",
    "plt.ylabel(\"f(x)\")\n",
    "plt.title(\"1st order return plot\")\n",
    "plt.legend()\n",
    "plt.grid(True)\n",
    "plt.show()"
   ],
   "metadata": {
    "collapsed": false
   }
  },
  {
   "cell_type": "markdown",
   "source": [
    "The fixpoint is stable (at least locally). No matter the initial value it seems that the system will converge to the fixpoint. This is seen by following the cobweb obtained by starting at a $x_0$. Furthermore the derivative of the recursive model defining the system is given by\n",
    "$$f'(x_t) = \\frac{w}{\\exp(x_t)+\\exp(-x_t) + 2}$$\n",
    "And we know that the fixpoint is locally stable as long as the derivative in the point is smaller than 1 - which is the case for the fixpoint found above. "
   ],
   "metadata": {
    "collapsed": false
   }
  },
  {
   "cell_type": "code",
   "outputs": [],
   "source": [
    "w / (np.exp(fixpoint)+np.exp(-fixpoint) + 2)"
   ],
   "metadata": {
    "collapsed": false
   }
  },
  {
   "cell_type": "markdown",
   "source": [
    "### For $w = 7$, plot the bifurcation graph as a function of $\\theta \\in [−10, 0]$. Include both stable and unstable objects. How does the system change its dynamical properties as $\\theta$ is varied within this range"
   ],
   "metadata": {
    "collapsed": false
   }
  },
  {
   "cell_type": "code",
   "outputs": [],
   "source": [
    "theta_vals = np.linspace(-10, 0, 1000)\n",
    "n_transient = 300                # discard these iterations\n",
    "n_iter = 1000                    # plot these iterations after transient\n",
    "\n",
    "# Prepare figure\n",
    "plt.figure(figsize=(10, 6))\n",
    "\n",
    "# Loop over theta values\n",
    "for theta in theta_vals:\n",
    "    x = 4  # initial condition\n",
    "    # Iterate to get close to attractor\n",
    "    for _ in range(n_transient):\n",
    "        x = w / (1 + np.exp(-x)) + theta\n",
    "    # Now plot the remaining iterations\n",
    "    x_vals = []\n",
    "    for _ in range(n_iter):\n",
    "        x = w / (1 + np.exp(-x)) + theta\n",
    "        x_vals.append(x)\n",
    "    # Plot points: one vertical line of x-values for this theta\n",
    "    plt.plot([theta]*n_iter, x_vals, ',k', alpha=0.3)\n",
    "\n",
    "# Labels and show\n",
    "plt.title(r\"Bifurcation diagram of x_{t+1} = w / (1 + exp(-x_t)) + theta\")\n",
    "plt.xlabel(\"theta\")\n",
    "plt.ylabel(\"x\")\n",
    "plt.grid(True)\n",
    "plt.tight_layout()\n",
    "plt.show()\n"
   ],
   "metadata": {
    "collapsed": false
   }
  },
  {
   "cell_type": "markdown",
   "source": [
    "## The logistic map"
   ],
   "metadata": {
    "collapsed": false
   }
  },
  {
   "cell_type": "markdown",
   "source": [
    "### Prove that, for $0 \\leq x_n \\leq 1$ and $0 \\leq r \\leq 4$, we have $0 \\leq f(x_n) \\leq 1$"
   ],
   "metadata": {
    "collapsed": false
   }
  },
  {
   "cell_type": "markdown",
   "source": [
    "$f(x_n)$ is defined as\n",
    "$$f(x_n) = rx_n(1-x_n) = r (x_n - x_n^2)$$\n",
    "Note that $x_n \\in [0,1] \\Rightarrow x_n^2 \\leq x_n$. Therefore we have $x_n - x_n^2 \\geq 0$ and $r \\geq 0$ implying \n",
    "$$f(x_n) = r (x_n - x_n^2) \\geq 0$$\n",
    "Establishing the lwoer bound. For the upper bound note that the function $0 \\leq x_n - x_n^2$ for $x_n \\in [0,1]$ is concave and has an optimum in $x_n = 0.5$ thus\n",
    "$$f(x_n) = r (x_n - x_n^2) \\leq r \\cdot 0.5 \\leq 4 \\cdot 0.25 = 1$$"
   ],
   "metadata": {
    "collapsed": false
   }
  },
  {
   "cell_type": "markdown",
   "source": [
    "## Starting from some $x_1 \\in (0, 1)$, plot a cobweb plot for $r = 0.5, 1.5, 2.5, 3.5$ and $3.9$ with $30$ steps"
   ],
   "metadata": {
    "collapsed": false
   }
  },
  {
   "cell_type": "code",
   "outputs": [],
   "source": [
    "def log_map(r,x): \n",
    "    return(r * x * (1 - x))"
   ],
   "metadata": {
    "collapsed": false
   }
  },
  {
   "cell_type": "code",
   "outputs": [],
   "source": [
    "num_iterations = 60\n",
    "rs = [0.5, 1.5, 2.5, 3.5, 3.9]\n",
    "x = np.empty((num_iterations, len(rs)))\n",
    "x[0,:] = 0.2\n",
    "i = -1\n",
    "for i, r in enumerate(rs):\n",
    "    for n in range(0, num_iterations - 1):\n",
    "        if n % 2 == 0:\n",
    "            x[n + 1, i] = r * x[n, i] * (1 - x[n, i])\n",
    "        else: \n",
    "            x[n + 1, i] = x[n, i]"
   ],
   "metadata": {
    "collapsed": false
   }
  },
  {
   "cell_type": "code",
   "outputs": [],
   "source": [
    "fig, axes = plt.subplots(1, 5, figsize=(20, 4))\n",
    "x_vals = np.linspace(0, 1, 400)\n",
    "\n",
    "for i, ax in enumerate(axes):\n",
    "    r = rs[i]\n",
    "    # Plot the cobweb line\n",
    "    ax.plot(x[0:num_iterations-2, i], x[1:num_iterations-1, i], color='blue', lw=1)\n",
    "    \n",
    "    # Plot f(x) = r*x*(1-x)\n",
    "    ax.plot(x_vals, r * x_vals * (1 - x_vals), 'r', label=f'$f(x) = {r}x(1 - x)$')\n",
    "    \n",
    "    # Identity line\n",
    "    ax.plot(x_vals, x_vals, 'k--', alpha=0.5)\n",
    "    \n",
    "    ax.set_title(f\"r = {r}\")\n",
    "    ax.set_xlabel(\"$x_t$\")\n",
    "    if i == 0:\n",
    "        ax.set_ylabel(\"$x_{t+1}$\")\n",
    "    ax.grid(True)\n",
    "\n",
    "fig.suptitle(\"Cobweb plots of the logistic map\", fontsize=16)\n",
    "plt.tight_layout(rect=[0, 0, 1, 0.95])\n",
    "plt.show()"
   ],
   "metadata": {
    "collapsed": false
   }
  },
  {
   "cell_type": "markdown",
   "source": [
    "### Show that the logistic map has a cycle of order 2 for r > 3. Use that a 2-cycle requires f (q) = p and f (p) = q. What is stability of the 2-cycle? Does the stability change for some r > 3?"
   ],
   "metadata": {
    "collapsed": false
   }
  },
  {
   "cell_type": "markdown",
   "source": [
    "Let $f(q) = p$ and $f(p) = q$. This implies \n",
    "$$rq(1-q) = p$$\n",
    "and \n",
    "$$rp(1-p) = q$$\n",
    "Substituting the expression for $q$ into the expression of $p$ we obtain\n",
    "$$r^2p(1-p)(1-rp(1-p)) = p$$\n",
    "Which is equivalent to\n",
    "$$-rp^3 + 2rp^2 - (1+r) p + 1 - 1/r^2 = 0$$\n",
    "Which is a cubic equation. The cubic equation always has at least one real solution, implying that there is always 2-cycle for the logistic map, and specifically for $r > 3$. We can find the solutions by help of python. Below we define the a function to find the solutions of the equation and a function for computing the discriminant. If the discriminant is positive there are 3 solutions, if it is negative there is only 1. "
   ],
   "metadata": {
    "collapsed": false
   }
  },
  {
   "cell_type": "code",
   "outputs": [],
   "source": [
    "def cubic_eq(r):\n",
    "    # Coefficients of the cubic: ax^3 + bx^2 + cx + d = 0\n",
    "    coeffs = [-r, 2*r, -(1+r), 1-1/(r*r)]\n",
    "    \n",
    "    roots = np.roots(coeffs)\n",
    "    return(roots)\n",
    "\n",
    "def disc(r):\n",
    "    a,b,c,d = -r, 2*r, -(1+r), 1-1/(r*r)\n",
    "    return(18*a*b*c*d - 4*b*b*b*d + b*b*c*c-4*a*c*c*c-27*a*a*d*d)\n"
   ],
   "metadata": {
    "collapsed": false
   }
  },
  {
   "cell_type": "markdown",
   "source": [
    "We illustrate with an example"
   ],
   "metadata": {
    "collapsed": false
   }
  },
  {
   "cell_type": "code",
   "outputs": [],
   "source": [
    "disc(3.5)"
   ],
   "metadata": {
    "collapsed": false
   }
  },
  {
   "cell_type": "markdown",
   "source": [
    "So there are three real solutions to the equation. "
   ],
   "metadata": {
    "collapsed": false
   }
  },
  {
   "cell_type": "code",
   "outputs": [],
   "source": [
    "cubic_eq(3.5)"
   ],
   "metadata": {
    "collapsed": false
   }
  },
  {
   "cell_type": "markdown",
   "source": [
    "We check that these indeed are 2-cycles. The first number gives us:"
   ],
   "metadata": {
    "collapsed": false
   }
  },
  {
   "cell_type": "code",
   "outputs": [],
   "source": [
    "p1 = 0.85714286\n",
    "q1 = log_map(3.5, p1)\n",
    "\n",
    "print(max(abs(log_map(3.5, p1) - q1), abs(log_map(3.5, q1) - p1)))\n",
    "print([p1, q1])"
   ],
   "metadata": {
    "collapsed": false
   }
  },
  {
   "cell_type": "markdown",
   "source": [
    "So the point is 0.85714286 indeed part of a two cycle. The second point 0.42857143 is another one of the solutions to the cubic equation. We consider the last point"
   ],
   "metadata": {
    "collapsed": false
   }
  },
  {
   "cell_type": "code",
   "outputs": [],
   "source": [
    "p2 = 0.71428571\n",
    "print(log_map(3.5, p2))"
   ],
   "metadata": {
    "collapsed": false
   }
  },
  {
   "cell_type": "markdown",
   "source": [
    "This is actually a fixpoint, which of course is than also a two cycle. "
   ],
   "metadata": {
    "collapsed": false
   }
  },
  {
   "cell_type": "markdown",
   "source": [
    "Let the logistic map be denoted by $f$. We can check the stability of the 2-cycle points by finding the derivative of the function $f(f(x))$ and calculating it in the points. \n",
    "\n",
    "$$ \\frac{df(f(x))}{dx} = -4r^3x^3 + 6r^3 x^2 - 2(r^2+r^3)x + r^2$$"
   ],
   "metadata": {
    "collapsed": false
   }
  },
  {
   "cell_type": "code",
   "outputs": [],
   "source": [
    "def deriv_log_map(r,x):\n",
    "    return(-4* r ** 3 * x ** 3 + 6 * r ** 3 * x ** 2 - 2 * (r ** 2 + r ** 3) * x + r ** 2)"
   ],
   "metadata": {
    "collapsed": false
   }
  },
  {
   "cell_type": "markdown",
   "source": [
    "We calculate these for our previous example"
   ],
   "metadata": {
    "collapsed": false
   }
  },
  {
   "cell_type": "code",
   "outputs": [],
   "source": [
    "print(deriv_log_map(3.5, p1))\n",
    "print(deriv_log_map(3.5, p2))"
   ],
   "metadata": {
    "collapsed": false
   }
  },
  {
   "cell_type": "markdown",
   "source": [
    "So neither of the two cycle points are stable. \n",
    "\n",
    "In order to check whether the stability changes for certain r values, we for a range of r values calculate the 2 cycle points and find the derivatives in these points. "
   ],
   "metadata": {
    "collapsed": false
   }
  },
  {
   "cell_type": "code",
   "outputs": [],
   "source": [
    "r_vals = np.linspace(3.00001, 5, 2000)\n",
    "cycle_points = [cubic_eq(r) for r in r_vals]\n",
    "deriv_vals = np.empty(shape = (2000, 3))\n",
    "for i in range(2000):\n",
    "    for j in range(3):\n",
    "        deriv_vals[i,j] = deriv_log_map(r_vals[i], cycle_points[i][j])"
   ],
   "metadata": {
    "collapsed": false
   }
  },
  {
   "cell_type": "markdown",
   "source": [
    "We plot the results"
   ],
   "metadata": {
    "collapsed": false
   }
  },
  {
   "cell_type": "code",
   "outputs": [],
   "source": [
    "exceed_index = np.where(np.abs(deriv_vals[:,0]) > 1)[0][0]\n",
    "r_exceed = r_vals[exceed_index]\n",
    "\n",
    "# Plotting\n",
    "plt.figure(figsize=(10, 6))\n",
    "\n",
    "for j in range(3):\n",
    "    plt.plot(r_vals, deriv_vals[:, j], label=f'Cycle point {j+1}')\n",
    "\n",
    "plt.axhline(y=1, color='gray', linestyle='--', linewidth=1)\n",
    "plt.axhline(y=-1, color='gray', linestyle='--', linewidth=1)\n",
    "\n",
    "# Vertical line at the r where |deriv| > 1\n",
    "if r_exceed is not None:\n",
    "    plt.axvline(x=r_exceed, color='red', linestyle='--', label=f'|deriv| > 1 at r ≈ {r_exceed:.4f}')\n",
    "\n",
    "plt.xlabel('r')\n",
    "plt.ylabel(\"Derivative at cycle points\")\n",
    "plt.title(\"Derivatives of cycle points vs r\")\n",
    "plt.legend()\n",
    "plt.grid(True)\n",
    "plt.show()"
   ],
   "metadata": {
    "collapsed": false
   }
  },
  {
   "cell_type": "markdown",
   "source": [
    "One of the points is always unstable. And the stability of the other two cycle is lost as soon as r > 3.4502."
   ],
   "metadata": {
    "collapsed": false
   }
  },
  {
   "cell_type": "markdown",
   "source": [
    "### For each $ r \\in \\{0.001, 0.002, 0.003 . . . 3.998, 3.999\\}$, produce $1000$ trajectories starting at random initial conditions with $100$ steps. Plot only the endpoints of the trajectories according to their respective $r$ in a 2D-scatter plot. "
   ],
   "metadata": {
    "collapsed": false
   }
  },
  {
   "cell_type": "code",
   "outputs": [],
   "source": [
    "r_vals = np.linspace(0.001, 3.999, 3999)\n",
    "results = np.empty(shape = (len(r_vals), 1000))\n",
    "\n",
    "for idx, r in enumerate(r_vals):\n",
    "    x = np.random.uniform(size=1000)\n",
    "    for _ in range(100):\n",
    "        x = log_map(r, x)\n",
    "    results[idx] = x"
   ],
   "metadata": {
    "collapsed": false
   }
  },
  {
   "cell_type": "code",
   "outputs": [],
   "source": [
    "plt.figure(figsize=(10, 6))\n",
    "\n",
    "for j in range(1000):\n",
    "    plt.scatter(r_vals, results[:, j], alpha = 0.1, s = 0.1)\n",
    "plt.xlabel('r')\n",
    "plt.ylabel(\"End points\")\n",
    "plt.title(\"End points of trajectories vs r\")\n",
    "plt.grid(True)\n",
    "plt.show()"
   ],
   "metadata": {
    "collapsed": false
   }
  },
  {
   "cell_type": "markdown",
   "source": [
    "### Redo the plot for $r \\in \\{3.44500, 3.44501, 3.44502, . . . , 3.56999, 3.57000\\}$ and use it to find another $r$ such that the logistic map has a cycle of order $p \\geq 3$. Then show the existence of the cycle mathematically."
   ],
   "metadata": {
    "collapsed": false
   }
  },
  {
   "cell_type": "code",
   "outputs": [],
   "source": [
    "print(np.where(r_vals > 3.44500)[0][0])\n",
    "print(np.where(r_vals > 3.57)[0][0])"
   ],
   "metadata": {
    "collapsed": false
   }
  },
  {
   "cell_type": "code",
   "outputs": [],
   "source": [
    "plt.figure(figsize=(10, 6))\n",
    "\n",
    "for j in range(1000):\n",
    "    plt.scatter(r_vals[3444:3570], results[3444:3570, j], alpha = 0.5, s = 0.3)\n",
    "plt.xlabel('r')\n",
    "plt.ylabel(\"End points\")\n",
    "plt.title(\"End points of trajectories vs r\")\n",
    "plt.grid(True)\n",
    "plt.show()"
   ],
   "metadata": {
    "collapsed": false
   }
  },
  {
   "cell_type": "markdown",
   "source": [
    "From the plot it might be the case that the logistic map $f$ would have a cycle of $p = 4$  at e.g. $r = 3.52$. This would mean there exist $y_1, y_2, y_3, y_4 \\in \\mathrm{R}$ s.t. $f(y_1) = y_2$, $f(y_2) = y_3$, $f(y_3)= y_4$, $f(y_4)=y_1$. Or in other words\n",
    "$$y_1 = f(y_4) = f(f(y_3)) = f(f(f(y_2))) = f(f(f(f(y_1))))$$\n",
    "Manipulating these expressions oone could attempt to solve this analytically. Instead we use python. We calculate for x values in $(0,1)$ the difference between $x$ and $f(f(f(f(x))))$ and find the point where this difference is 0. "
   ],
   "metadata": {
    "collapsed": false
   }
  },
  {
   "cell_type": "code",
   "outputs": [],
   "source": [
    "r = 3.52\n",
    "def f4(x):\n",
    "    return log_map(3.52,log_map(r,log_map(r, log_map(r, x))))\n",
    "\n",
    "def g(x):\n",
    "    return f4(x) - x\n",
    "\n",
    "# Plot g(x) to see where it crosses zero\n",
    "x_vals = np.linspace(0, 1, 10**6)\n",
    "g_vals = [g(x) for x in x_vals]\n",
    "\n",
    "plt.axhline(0, color='gray', linestyle='--')\n",
    "plt.plot(x_vals, g_vals)\n",
    "plt.title(\"g(x) = f(f(f(f(x)))) - x\")\n",
    "plt.xlabel(\"x\")\n",
    "plt.ylabel(\"g(x)\")\n",
    "plt.grid(True)\n",
    "plt.show()\n",
    "\n",
    "# Use fsolve to find a root near a suspected zero\n",
    "x0_guess = 0.5\n",
    "x_root = fsolve(g, x0_guess)[0]\n",
    "\n",
    "# Check the orbit\n",
    "x1 = x_root\n",
    "x2 = log_map(r, x1)\n",
    "x3 = log_map(r, x2)\n",
    "x4 = log_map(r, x3)\n",
    "x5 = log_map(r, x4)\n",
    "\n",
    "print(f\"Found period-4 cycle:\\n  x1 = {x1:.6f},\\n  x2 = {x2:.6f},\\n  x3 = {x3:.6f},\\n  x4 = {x4:.6f},\\n  x4 = {x5:.6f}\")\n"
   ],
   "metadata": {
    "collapsed": false
   }
  },
  {
   "cell_type": "markdown",
   "source": [
    "The above 4 points constitute a period 4 cycle. "
   ],
   "metadata": {
    "collapsed": false
   }
  },
  {
   "cell_type": "markdown",
   "source": [
    "### The qualitative changes in the dynamics that you can see in the diagram for certain values of r are called bifurcations. This is where the topology of the dynamics change. Develop a procedure to numerically compute the r values for the following m bifurcations, starting from r = 3.44. Describe the algorithm."
   ],
   "metadata": {
    "collapsed": false
   }
  },
  {
   "cell_type": "code",
   "outputs": [],
   "source": [
    "results_an = results[3439:4000, :]\n",
    "last_period = 2\n",
    "bifurcation_points = []\n",
    "bifurcation_periods = []\n",
    "\n",
    "for idx, r in enumerate(r_vals[3439:len(r_vals)]):\n",
    "    period = len(np.unique(np.round(results_an[idx,:],2)))\n",
    "    if period > last_period:\n",
    "        bifurcation_points.append(r)\n",
    "        bifurcation_periods.append(period)\n",
    "        last_period = period"
   ],
   "metadata": {
    "collapsed": false
   }
  },
  {
   "cell_type": "markdown",
   "source": [
    "The algorithm is developed in the above. It for each $r$ value calculates the number of distinct trajectory end points. Then it checks whether the number of distinct end points differs from that of the last period, if so, it saves the r-value, which is a bifurcation point. "
   ],
   "metadata": {
    "collapsed": false
   }
  },
  {
   "cell_type": "markdown",
   "source": [
    "### Let $2 \\leq r_n \\leq m − 1$ be a bifurcation point. Calculate the relative distance between successive bifurcations points\n",
    "$$\\delta = \\frac{r_n − r_{n−1}}{r_{n+1} − r_n}$$\n",
    "for all $n \\in \\{1, \\ldots, 100\\}$. What do you find?"
   ],
   "metadata": {
    "collapsed": false
   }
  },
  {
   "cell_type": "code",
   "outputs": [],
   "source": [
    "delta = [None] * len(bifurcation_points)\n",
    "for n in range(1,len(bifurcation_points)-1):\n",
    "    delta[n-1] = (bifurcation_points[n] - bifurcation_points[n - 1]) /(bifurcation_points[n + 1] - bifurcation_points[n])"
   ],
   "metadata": {
    "collapsed": false
   }
  }
 ],
 "metadata": {
  "kernelspec": {
   "display_name": "Python 3",
   "language": "python",
   "name": "python3"
  },
  "language_info": {
   "codemirror_mode": {
    "name": "ipython",
    "version": 3
   },
   "file_extension": ".py",
   "mimetype": "text/x-python",
   "name": "python",
   "nbconvert_exporter": "python",
   "pygments_lexer": "ipython3",
   "version": "3.11.1"
  }
 },
 "nbformat": 4,
 "nbformat_minor": 2
}
