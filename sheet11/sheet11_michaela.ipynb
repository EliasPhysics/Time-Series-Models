{
 "cells": [
  {
   "cell_type": "markdown",
   "metadata": {},
   "source": [
    "# Sheet 11"
   ]
  },
  {
   "cell_type": "code",
   "execution_count": 2,
   "metadata": {},
   "outputs": [],
   "source": [
    "import torch\n",
    "from torch import nn, optim\n",
    "from torch.utils.data import DataLoader\n",
    "\n",
    "from matplotlib import pyplot as plt\n",
    "\n",
    "import tqdm"
   ]
  },
  {
   "cell_type": "markdown",
   "metadata": {},
   "source": [
    "#### a) Dataset class"
   ]
  },
  {
   "cell_type": "code",
   "execution_count": null,
   "metadata": {},
   "outputs": [],
   "source": [
    "class NamesDataset():\n",
    "    def __init__(self):\n",
    "        pass # your code here\n",
    "    \n",
    "    def name_to_indices(self, name, pad=True):\n",
    "        pass # your code here\n",
    "    \n",
    "    def indices_to_name(self, indices):\n",
    "        pass # your code here\n",
    "\n",
    "    def __len__(self):\n",
    "        pass # your code here\n",
    "    \n",
    "    def __getitem__(self, idx):\n",
    "        pass # your code here"
   ]
  },
  {
   "cell_type": "markdown",
   "metadata": {},
   "source": [
    "#### b) & c) Model definition"
   ]
  },
  {
   "cell_type": "code",
   "execution_count": 3,
   "metadata": {},
   "outputs": [],
   "source": [
    "class NameTransformer(nn.Module):\n",
    "    def __init__(self, alphabet_size, embedding_dim, num_heads, num_layers, max_length, dropout=0.1):\n",
    "        super().__init__()\n",
    "        self.alphabet_size = alphabet_size\n",
    "        self.embedding_dim = embedding_dim\n",
    "        self.num_heads = num_heads\n",
    "        self.num_layers = num_layers\n",
    "        self.dropout = dropout\n",
    "        self.max_length = max_length\n",
    "\n",
    "        # replace the Nones with your code\n",
    "\n",
    "        # input layer: embedding and positional encoding\n",
    "        # initialize the positional encoding with random normal\n",
    "        self.embedding = None\n",
    "        self.pos_encoding = None\n",
    "\n",
    "        # transformer encoder layers (use batch_first=True)\n",
    "        encoder_layers = None\n",
    "        self.transformer_encoder = None\n",
    "\n",
    "        # output layer\n",
    "        self.output_layer = None\n",
    "\n",
    "    def forward(self, x):\n",
    "        causal_mask = None # your code here\n",
    "        x = self.embedding(x) + self.pos_encoding[..., :x.shape[-1], :]\n",
    "        x = self.transformer_encoder(x, causal_mask)\n",
    "        x = self.output_layer(x)\n",
    "        return x\n",
    "    \n",
    "    def generate(self, x, eos_token_idx, temperature=1.0):\n",
    "        pass # your code here"
   ]
  },
  {
   "cell_type": "markdown",
   "metadata": {},
   "source": [
    "Loss definition. Make sure your model outputs are compatible or adjust as needed."
   ]
  },
  {
   "cell_type": "code",
   "execution_count": 4,
   "metadata": {},
   "outputs": [],
   "source": [
    "def cross_entropy_loss(preds, targets, mask):\n",
    "    \"\"\"\n",
    "    Compute the cross-entropy loss for a batch of predictions and targets.\n",
    "    Args:\n",
    "        preds: predicted logits (batch_size, seq_len, alphabet_size)\n",
    "        targets: ground truth token indices (batch_size, seq_len)\n",
    "        mask: True at eos token positions (batch_size, seq_len)\n",
    "    Returns:\n",
    "        loss: (1,)\n",
    "    \"\"\"\n",
    "    loss = nn.functional.cross_entropy(preds.view(-1, preds.size(-1))[~mask.flatten()], targets.view(-1)[~mask.flatten()])\n",
    "    return loss"
   ]
  },
  {
   "cell_type": "markdown",
   "metadata": {},
   "source": [
    "#### d) Training and generating"
   ]
  },
  {
   "cell_type": "code",
   "execution_count": 5,
   "metadata": {},
   "outputs": [],
   "source": [
    "num_epochs = 500\n",
    "embedding_dim = 256\n",
    "num_heads = 4\n",
    "num_layers = 1\n",
    "dropout = 0.1\n",
    "batch_size = 256\n",
    "\n",
    "alphabet_size = None # your code here\n",
    "max_length = None # your code here\n",
    "\n",
    "dset = NamesDataset()\n",
    "model = NameTransformer(alphabet_size=alphabet_size, embedding_dim=embedding_dim, num_heads=num_heads, num_layers=num_layers, dropout=dropout, max_length=max_length)\n",
    "\n",
    "optimizer = optim.Adam(model.parameters(), lr=1e-3)\n",
    "scheduler = optim.lr_scheduler.CosineAnnealingLR(optimizer, T_max=num_epochs, eta_min=1e-4)\n",
    "\n",
    "dloader = DataLoader(dset, batch_size=batch_size, shuffle=True)"
   ]
  },
  {
   "cell_type": "code",
   "execution_count": 6,
   "metadata": {},
   "outputs": [],
   "source": [
    "def train_loop(model, optimizer, scheduler, criterion, dataloader, num_epochs):\n",
    "    pbar = tqdm.trange(num_epochs)\n",
    "    losses = []\n",
    "    for epoch in pbar:\n",
    "        model.train()\n",
    "        total_loss = 0\n",
    "        for data, target, mask in dataloader:\n",
    "            optimizer.zero_grad()\n",
    "            loss = criterion(model(data), target, mask)\n",
    "            loss.backward()\n",
    "            optimizer.step()\n",
    "            total_loss += loss.item()\n",
    "        scheduler.step()\n",
    "        losses.append(total_loss / len(dataloader))\n",
    "        pbar.set_description(f\"Loss: {total_loss / len(dataloader):.4f}\")\n",
    "    return losses"
   ]
  },
  {
   "cell_type": "code",
   "execution_count": null,
   "metadata": {},
   "outputs": [],
   "source": [
    "losses = train_loop(model, optimizer, scheduler, cross_entropy_loss, dloader, num_epochs)"
   ]
  },
  {
   "cell_type": "markdown",
   "metadata": {},
   "source": [
    "Visualizes the training loss:"
   ]
  },
  {
   "cell_type": "code",
   "execution_count": null,
   "metadata": {},
   "outputs": [],
   "source": [
    "fig, ax = plt.subplots(1, figsize=(10, 5))\n",
    "ax.plot(losses)\n",
    "ax.set_xlabel(\"Epoch\")\n",
    "ax.set_ylabel(\"Loss\")\n",
    "ax.set_yscale(\"log\")\n",
    "plt.show()"
   ]
  },
  {
   "cell_type": "markdown",
   "metadata": {},
   "source": [
    "Generate some names"
   ]
  },
  {
   "cell_type": "code",
   "execution_count": null,
   "metadata": {},
   "outputs": [],
   "source": [
    "# your code here"
   ]
  },
  {
   "cell_type": "markdown",
   "metadata": {},
   "source": [
    "Plot histograms of the next token distribution for three or so values of T\n",
    "(choose them in a way so you can see a difference)"
   ]
  },
  {
   "cell_type": "code",
   "execution_count": null,
   "metadata": {},
   "outputs": [],
   "source": [
    "# your code here"
   ]
  }
 ],
 "metadata": {
  "kernelspec": {
   "display_name": "Python 3",
   "language": "python",
   "name": "python3"
  },
  "language_info": {
   "codemirror_mode": {
    "name": "ipython",
    "version": 3
   },
   "file_extension": ".py",
   "mimetype": "text/x-python",
   "name": "python",
   "nbconvert_exporter": "python",
   "pygments_lexer": "ipython3",
   "version": "3.11.1"
  }
 },
 "nbformat": 4,
 "nbformat_minor": 2
}
