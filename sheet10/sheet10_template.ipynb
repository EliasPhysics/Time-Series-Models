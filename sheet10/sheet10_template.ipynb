{
  "cells": [
    {
      "cell_type": "markdown",
      "metadata": {
        "id": "wPd5yxyjHYqi"
      },
      "source": [
        "# Sheet 10"
      ]
    },
    {
      "cell_type": "markdown",
      "metadata": {},
      "source": [
        "## a."
      ]
    },
    {
      "cell_type": "markdown",
      "metadata": {},
      "source": [
        "**Tree after up-sweep**"
      ]
    },
    {
      "cell_type": "code",
      "execution_count": 47,
      "metadata": {},
      "outputs": [],
      "source": [
        "temp = a\n",
        "uptree = [a]\n",
        "while len(temp) != 1:\n",
        "    temp = [temp[b] + temp[b+1] for b in range(0, len(temp), 2)]\n",
        "    uptree.append(temp)"
      ]
    },
    {
      "cell_type": "code",
      "execution_count": 48,
      "metadata": {},
      "outputs": [
        {
          "name": "stdout",
          "output_type": "stream",
          "text": [
            "[[4, 6, 1, 0, 1, 7, 3, 2], [10, 1, 8, 5], [11, 13], [24]]\n"
          ]
        }
      ],
      "source": [
        "print(uptree)"
      ]
    },
    {
      "cell_type": "markdown",
      "metadata": {},
      "source": [
        "**Tree after down-sweep**"
      ]
    },
    {
      "cell_type": "code",
      "execution_count": null,
      "metadata": {},
      "outputs": [
        {
          "name": "stdout",
          "output_type": "stream",
          "text": [
            "hi\n",
            "hi\n",
            "hi\n"
          ]
        }
      ],
      "source": [
        "temp = uptree[0:(len(uptree)-1)]\n",
        "downtree = [[0]]\n",
        "while len(temp) != 0:\n",
        "    parents = downtree[-1]\n",
        "    children = temp.pop()\n",
        "    new_children = []\n",
        "    for j in range(len(parents)):\n",
        "        new_children.append(parents[j])\n",
        "        new_children.append(children[2*j] + parents[j])\n",
        "    downtree.append(new_children)"
      ]
    },
    {
      "cell_type": "code",
      "execution_count": 104,
      "metadata": {},
      "outputs": [
        {
          "name": "stdout",
          "output_type": "stream",
          "text": [
            "[[0], [0, 11], [0, 10, 11, 19], [0, 4, 10, 11, 11, 12, 19, 22]]\n"
          ]
        }
      ],
      "source": [
        "print(downtree)"
      ]
    },
    {
      "cell_type": "markdown",
      "metadata": {},
      "source": [
        "## b.\n",
        "**What is the time complexity of the parallel scan algorithm? Explain why.**"
      ]
    },
    {
      "cell_type": "markdown",
      "metadata": {},
      "source": [
        "If the inner loop over the trees nodes at a given depth is parallelized and has time complexity $O(1)$, then the time complexity of the parallel scan algorithm is determined by the depth of the tree. For every step up the tree the number of nodes is halved, resulting in the following relation between depth $D$ and number of nodes $N$:\n",
        "$$N = 2^{D} \\Leftrightarrow D = \\frac{\\log N}{\\log 2}$$\n",
        "Which means that the time complexity of the algorithm is $O(\\log N)$. "
      ]
    },
    {
      "cell_type": "markdown",
      "metadata": {},
      "source": [
        "## c.\n",
        "**Reformulate the recurrence in eq. II such that it fits eq. I.**"
      ]
    },
    {
      "cell_type": "markdown",
      "metadata": {},
      "source": []
    },
    {
      "cell_type": "markdown",
      "metadata": {},
      "source": [
        "## d."
      ]
    },
    {
      "cell_type": "code",
      "execution_count": 1,
      "metadata": {
        "id": "7B6wYjb4HTDg"
      },
      "outputs": [
        {
          "ename": "ModuleNotFoundError",
          "evalue": "No module named 'jax'",
          "output_type": "error",
          "traceback": [
            "\u001b[0;31m---------------------------------------------------------------------------\u001b[0m",
            "\u001b[0;31mModuleNotFoundError\u001b[0m                       Traceback (most recent call last)",
            "Cell \u001b[0;32mIn[1], line 1\u001b[0m\n\u001b[0;32m----> 1\u001b[0m \u001b[38;5;28;01mfrom\u001b[39;00m \u001b[38;5;21;01mjax\u001b[39;00m\u001b[38;5;21;01m.\u001b[39;00m\u001b[38;5;21;01mlax\u001b[39;00m \u001b[38;5;28;01mimport\u001b[39;00m associative_scan\n\u001b[1;32m      2\u001b[0m \u001b[38;5;28;01mfrom\u001b[39;00m \u001b[38;5;21;01mjax\u001b[39;00m\u001b[38;5;21;01m.\u001b[39;00m\u001b[38;5;21;01mrandom\u001b[39;00m \u001b[38;5;28;01mimport\u001b[39;00m randint, PRNGKey\n\u001b[1;32m      3\u001b[0m \u001b[38;5;28;01mimport\u001b[39;00m \u001b[38;5;21;01mjax\u001b[39;00m\u001b[38;5;21;01m.\u001b[39;00m\u001b[38;5;21;01mnumpy\u001b[39;00m \u001b[38;5;28;01mas\u001b[39;00m \u001b[38;5;21;01mnp\u001b[39;00m\n",
            "\u001b[0;31mModuleNotFoundError\u001b[0m: No module named 'jax'"
          ]
        }
      ],
      "source": [
        "from jax.lax import associative_scan\n",
        "from jax.random import randint, PRNGKey\n",
        "import jax.numpy as np\n",
        "import time\n",
        "import os\n",
        "from matplotlib import pyplot as plt\n",
        "\n",
        "os.environ[\"CUDA_VISIBLE_DEVICES\"] = \"0\" ### SET THIS TO THE GPU ID YOU WANT TO USE (leave at 0 if you don't know)\n",
        "os.environ[\"JAX_PLATFORM_NAME\"] = \"cuda\""
      ]
    },
    {
      "cell_type": "code",
      "execution_count": 2,
      "metadata": {
        "id": "AAjDAjcVHhfx"
      },
      "outputs": [],
      "source": [
        "def cumsum_sequential(sequence):\n",
        "    pass\n",
        "\n",
        "def cumsum_associative_scan(sequence):\n",
        "    def associative_binary_operator(element1, element2):\n",
        "        pass\n",
        "    pass"
      ]
    },
    {
      "cell_type": "code",
      "execution_count": 9,
      "metadata": {
        "id": "S-tUGlABIyrP"
      },
      "outputs": [],
      "source": [
        "lengths = [10, 100, 1000, 10000]\n",
        "times_autoregressive = []\n",
        "times_associative_scan = []\n",
        "\n",
        "for length in lengths:\n",
        "    sequence = randint(PRNGKey(0), (length, ), 0, 10,)\n",
        "\n",
        "    # your code here"
      ]
    },
    {
      "cell_type": "code",
      "execution_count": null,
      "metadata": {
        "id": "gEANcD0XJbzP"
      },
      "outputs": [],
      "source": [
        "# visualize the results"
      ]
    }
  ],
  "metadata": {
    "accelerator": "GPU",
    "colab": {
      "gpuType": "T4",
      "provenance": []
    },
    "kernelspec": {
      "display_name": "Python 3",
      "name": "python3"
    },
    "language_info": {
      "codemirror_mode": {
        "name": "ipython",
        "version": 3
      },
      "file_extension": ".py",
      "mimetype": "text/x-python",
      "name": "python",
      "nbconvert_exporter": "python",
      "pygments_lexer": "ipython3",
      "version": "3.11.1"
    }
  },
  "nbformat": 4,
  "nbformat_minor": 0
}
