{
  "cells": [
    {
      "cell_type": "markdown",
      "metadata": {
        "id": "wPd5yxyjHYqi"
      },
      "source": [
        "# Sheet 10"
      ]
    },
    {
      "cell_type": "markdown",
      "metadata": {},
      "source": [
        "## a."
      ]
    },
    {
      "cell_type": "markdown",
      "metadata": {},
      "source": [
        "**Tree after up-sweep**"
      ]
    },
    {
      "cell_type": "code",
      "execution_count": 47,
      "metadata": {},
      "outputs": [],
      "source": [
        "temp = a\n",
        "uptree = [a]\n",
        "while len(temp) != 1:\n",
        "    temp = [temp[b] + temp[b+1] for b in range(0, len(temp), 2)]\n",
        "    uptree.append(temp)"
      ]
    },
    {
      "cell_type": "code",
      "execution_count": 48,
      "metadata": {},
      "outputs": [
        {
          "name": "stdout",
          "output_type": "stream",
          "text": [
            "[[4, 6, 1, 0, 1, 7, 3, 2], [10, 1, 8, 5], [11, 13], [24]]\n"
          ]
        }
      ],
      "source": [
        "print(uptree)"
      ]
    },
    {
      "cell_type": "markdown",
      "metadata": {},
      "source": [
        "**Tree after down-sweep**"
      ]
    },
    {
      "cell_type": "code",
      "execution_count": null,
      "metadata": {},
      "outputs": [
        {
          "name": "stdout",
          "output_type": "stream",
          "text": [
            "hi\n",
            "hi\n",
            "hi\n"
          ]
        }
      ],
      "source": [
        "temp = uptree[0:(len(uptree)-1)]\n",
        "downtree = [[0]]\n",
        "while len(temp) != 0:\n",
        "    parents = downtree[-1]\n",
        "    children = temp.pop()\n",
        "    new_children = []\n",
        "    for j in range(len(parents)):\n",
        "        new_children.append(parents[j])\n",
        "        new_children.append(children[2*j] + parents[j])\n",
        "    downtree.append(new_children)"
      ]
    },
    {
      "cell_type": "code",
      "execution_count": 104,
      "metadata": {},
      "outputs": [
        {
          "name": "stdout",
          "output_type": "stream",
          "text": [
            "[[0], [0, 11], [0, 10, 11, 19], [0, 4, 10, 11, 11, 12, 19, 22]]\n"
          ]
        }
      ],
      "source": [
        "print(downtree)"
      ]
    },
    {
      "cell_type": "markdown",
      "metadata": {},
      "source": [
        "## b.\n",
        "**What is the time complexity of the parallel scan algorithm? Explain why.**"
      ]
    },
    {
      "cell_type": "markdown",
      "metadata": {},
      "source": [
        "If the inner loop over the trees nodes at a given depth is parallelized and has time complexity $O(1)$, then the time complexity of the parallel scan algorithm is determined by the depth of the tree. For every step up the tree the number of nodes is halved, resulting in the following relation between depth $D$ and number of nodes $N$:\n",
        "$$N = 2^{D} \\Leftrightarrow D = \\frac{\\log N}{\\log 2}$$\n",
        "Which means that the time complexity of the algorithm is $O(\\log N)$. "
      ]
    },
    {
      "cell_type": "markdown",
      "metadata": {},
      "source": [
        "## c.\n",
        "**Reformulate the recurrence in eq. II such that it fits eq. I.**\n",
        "\n",
        "We can write the recurrence as"
      ]
    },
    {
      "cell_type": "markdown",
      "metadata": {},
      "source": [
        "$$ [\\bar{A}^{i}, z_i] = \\begin{cases} [1, z_0] \\quad & i = 0, \\\\\n",
        "                                      [\\bar{A}^{i-1} \\odot \\bar{A}, (\\bar{A} \\otimes z_{i-1}) \\oplus \\bar{B} u_i], \\quad & i > 0\n",
        "\\end{cases}$$"
      ]
    },
    {
      "cell_type": "markdown",
      "metadata": {},
      "source": [
        "In the context of equation (1) this $y_i = \\bar{A}^{i}$, $x_i = z_i$, $a_i = \\bar{A}$, $b_i = \\bar{B} u_i$"
      ]
    },
    {
      "cell_type": "markdown",
      "metadata": {},
      "source": [
        "## d."
      ]
    },
    {
      "cell_type": "code",
      "execution_count": 5,
      "metadata": {
        "id": "7B6wYjb4HTDg"
      },
      "outputs": [],
      "source": [
        "from jax.lax import associative_scan\n",
        "from jax.random import randint, PRNGKey\n",
        "import jax.numpy as np\n",
        "import time\n",
        "import os\n",
        "from matplotlib import pyplot as plt\n",
        "\n",
        "os.environ[\"CUDA_VISIBLE_DEVICES\"] = \"0\" ### SET THIS TO THE GPU ID YOU WANT TO USE (leave at 0 if you don't know)\n",
        "os.environ[\"JAX_PLATFORM_NAME\"] = \"cuda\""
      ]
    },
    {
      "cell_type": "markdown",
      "metadata": {},
      "source": [
        "We implement the two versions of the cumulative sum"
      ]
    },
    {
      "cell_type": "code",
      "execution_count": 6,
      "metadata": {
        "id": "AAjDAjcVHhfx"
      },
      "outputs": [],
      "source": [
        "def cumsum_sequential(sequence):\n",
        "    result = []\n",
        "    current = 0\n",
        "    for j in range(len(sequence)):\n",
        "        current += sequence[j]\n",
        "        result.append(current)\n",
        "    return(result)\n",
        "\n",
        "def cumsum_associative_scan(sequence):\n",
        "    def associative_binary_operator(element1, element2):\n",
        "        return element1 + element2\n",
        "    return associative_scan(associative_binary_operator, sequence)"
      ]
    },
    {
      "cell_type": "markdown",
      "metadata": {},
      "source": [
        "We test them out"
      ]
    },
    {
      "cell_type": "code",
      "execution_count": 7,
      "metadata": {},
      "outputs": [
        {
          "name": "stdout",
          "output_type": "stream",
          "text": [
            "[1, 3, 7, 12]\n",
            "[ 1  3  7 12]\n"
          ]
        }
      ],
      "source": [
        "sequence = [1,2,4,5]\n",
        "print(cumsum_sequential(sequence))\n",
        "sequence = np.array([1, 2, 4, 5])\n",
        "print(cumsum_associative_scan(sequence))"
      ]
    },
    {
      "cell_type": "markdown",
      "metadata": {},
      "source": [
        "**Record their runtimes for different lengths of input sequence and visualize the results.**"
      ]
    },
    {
      "cell_type": "code",
      "execution_count": null,
      "metadata": {
        "id": "S-tUGlABIyrP"
      },
      "outputs": [],
      "source": [
        "lengths = [10, 100, 1000, 10000, 10**5]\n",
        "times_autoregressive = []\n",
        "times_associative_scan = []\n",
        "\n",
        "for length in lengths:\n",
        "    sequence = randint(PRNGKey(0), (length, ), 0, 10,)\n",
        "\n",
        "    start = time.perf_counter()\n",
        "    y1 = cumsum_sequential(sequence)\n",
        "    end = time.perf_counter()\n",
        "    times_autoregressive.append((end-start))\n",
        "\n",
        "    cumsum_associative_scan(sequence).block_until_ready()              # Warm up\n",
        "\n",
        "    start = time.perf_counter()\n",
        "    y1 = cumsum_associative_scan(sequence).block_until_ready()         \n",
        "    end = time.perf_counter()\n",
        "    times_associative_scan.append((end-start))\n"
      ]
    },
    {
      "cell_type": "code",
      "execution_count": 19,
      "metadata": {
        "id": "gEANcD0XJbzP"
      },
      "outputs": [
        {
          "data": {
            "image/png": "[encoded data removed]",
            "text/plain": [
              "<Figure size 800x500 with 1 Axes>"
            ]
          },
          "metadata": {},
          "output_type": "display_data"
        }
      ],
      "source": [
        "plt.figure(figsize=(8, 5))\n",
        "plt.plot(lengths, times_autoregressive, marker='o', label='Sequential cumsum')\n",
        "plt.plot(lengths, times_associative_scan, marker='s', label='Associative scan')\n",
        "\n",
        "plt.xlabel('Sequence length')\n",
        "plt.ylabel('Runtime (seconds)')\n",
        "plt.title('Runtime comparison of cumsum methods')\n",
        "plt.legend()\n",
        "plt.grid(True)\n",
        "plt.xscale('log')  # Optional: makes it easier to see large jumps in input size\n",
        "plt.yscale('log')  # Optional: useful if runtime varies a lot\n",
        "\n",
        "plt.tight_layout()\n",
        "plt.show()"
      ]
    }
  ],
  "metadata": {
    "accelerator": "GPU",
    "colab": {
      "gpuType": "T4",
      "provenance": []
    },
    "kernelspec": {
      "display_name": "Python 3",
      "name": "python3"
    },
    "language_info": {
      "codemirror_mode": {
        "name": "ipython",
        "version": 3
      },
      "file_extension": ".py",
      "mimetype": "text/x-python",
      "name": "python",
      "nbconvert_exporter": "python",
      "pygments_lexer": "ipython3",
      "version": "3.11.1"
    }
  },
  "nbformat": 4,
  "nbformat_minor": 0
}
